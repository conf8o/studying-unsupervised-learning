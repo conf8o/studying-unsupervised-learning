{
 "cells": [
  {
   "cell_type": "markdown",
   "metadata": {},
   "source": [
    "# 教師なし学習の実験\n",
    "\n",
    "## 条件\n",
    "\n",
    "* サイコロが三つ: \n",
    "    * $w_1, w_2, w_3$\n",
    "* それぞれ取り出される確率(含有率):\n",
    "    * $P(w_i) = \\pi_i$\n",
    "* サイコロ$w_i$を投げて、出た目が奇数($v_1$)または偶数($v_2$)である確率: \n",
    "    * $P(v_k|w_i) = \\theta_{ik}$\n",
    "\n",
    "## 設定\n",
    "\n",
    "$(\\pi_1, \\pi_2, \\pi_3) = (0.1, 0.4, 0.3)$\n",
    "\n",
    "$(\\theta_{11}, \\theta_{21}, \\theta_{31}) = (0.8, 0.6, 0.3)$ (サイコロ$w_i$を投げて、出た目が奇数である確率)\n",
    "\n",
    "## 観測結果\n",
    "\n",
    "10000回投げる($n = 10000$)。\n",
    "\n",
    "奇数が出た回数($r_1$)は、$4746$\n",
    "\n",
    "偶数が出た回数($r_2$)は、$5254$\n",
    "\n",
    "## 推定するもの\n",
    "\n",
    "以下、とりあえず$\pi_i$を推定する実験をする。$\\theta_{ik}$は既知のものとする。"
   ]
  },
  {
   "cell_type": "code",
   "execution_count": 45,
   "metadata": {},
   "outputs": [],
   "source": [
    "# サイコロw_iの含有率 (sum(W) == 1)\n",
    "# 答え W = [0.1, 0.4, 0.5]\n",
    "\n",
    "# 初期値\n",
    "w = [0.3, 0.5, 0.2]\n",
    "\n",
    "# サイコロw_iについて、(奇数が出る確率, 偶数が出る確率) \n",
    "V = [(0.8, 0.2), (0.6, 0.4), (0.3, 0.7)]\n",
    "\n",
    "# 観測結果(奇数の回数, 偶数の回数) sum(r) == n\n",
    "# TODO 上の「答え」を使ってランダムに取ってきても良いかも\n",
    "R = (4746, 5254)\n",
    "N = 10000"
   ]
  },
  {
   "cell_type": "code",
   "execution_count": 46,
   "metadata": {},
   "outputs": [],
   "source": [
    "# Pk(w_i| v_k) v_kの目が出たとして、それがw_iのサイコロである確率 \n",
    "def Pk(k, w, i):\n",
    "    up = V[i][k] * w[i]\n",
    "    down = sum(w[j] * V[j][k] for j in range(len(w)))\n",
    "    return up / down"
   ]
  },
  {
   "cell_type": "code",
   "execution_count": 47,
   "metadata": {},
   "outputs": [
    {
     "name": "stdout",
     "output_type": "stream",
     "text": [
      "0.3999999999999999\n",
      "0.4999999999999999\n",
      "0.09999999999999998\n"
     ]
    }
   ],
   "source": [
    "# 奇数が出たとして、それがw_iである確率\n",
    "for i in range(len(w)):\n",
    "    p = Pk(0, w, i)\n",
    "    print(p)\n",
    "    \n",
    "# 合計はほぼ 1"
   ]
  },
  {
   "cell_type": "code",
   "execution_count": 48,
   "metadata": {},
   "outputs": [
    {
     "name": "stdout",
     "output_type": "stream",
     "text": [
      "0.15\n",
      "0.5\n",
      "0.3499999999999999\n"
     ]
    }
   ],
   "source": [
    "# 偶数が出たとして、それがw_iである確率\n",
    "for i in range(len(w)):\n",
    "    p = Pk(1, w, i)\n",
    "    print(p)"
   ]
  },
  {
   "cell_type": "code",
   "execution_count": 49,
   "metadata": {},
   "outputs": [],
   "source": [
    "# 観測結果(r)による、wの更新\n",
    "\n",
    "def _w(w, r):\n",
    "    new_w = w[:]\n",
    "    for i in range(len(new_w)):\n",
    "        total = 0\n",
    "        for m in range(len(r)):\n",
    "            total += R[m] * Pk(m, w, i)\n",
    "        new_w[i] = total / N\n",
    "    return new_w"
   ]
  },
  {
   "cell_type": "code",
   "execution_count": 50,
   "metadata": {},
   "outputs": [
    {
     "name": "stdout",
     "output_type": "stream",
     "text": [
      "[0.26864999999999994, 0.5, 0.23134999999999994]\n"
     ]
    }
   ],
   "source": [
    "w = _w(w, r)\n",
    "print(w)\n",
    "\n",
    "# 答え w = [0.1, 0.4, 0.5]\n",
    "# 初期値 w = [0.3, 0.5, 0.2]\n",
    "# w[0]が若干減り、 w[2]が若干増えていることがわかる。"
   ]
  },
  {
   "cell_type": "code",
   "execution_count": null,
   "metadata": {},
   "outputs": [],
   "source": [
    "# TODO \n",
    "\n",
    "def logP(x):\n",
    "    for k in range(len(R)):\n",
    "\n",
    "# 初期値\n",
    "w = [0.3, 0.5, 0.2]\n"
   ]
  }
 ],
 "metadata": {
  "kernelspec": {
   "display_name": "Python 3",
   "language": "python",
   "name": "python3"
  },
  "language_info": {
   "codemirror_mode": {
    "name": "ipython",
    "version": 3
   },
   "file_extension": ".py",
   "mimetype": "text/x-python",
   "name": "python",
   "nbconvert_exporter": "python",
   "pygments_lexer": "ipython3",
   "version": "3.9.2+"
  }
 },
 "nbformat": 4,
 "nbformat_minor": 2
}
